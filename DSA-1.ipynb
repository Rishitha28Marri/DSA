{
 "cells": [
  {
   "cell_type": "markdown",
   "id": "47e96ec3-409d-4404-a494-bb698c00ed74",
   "metadata": {},
   "source": [
    "\n",
    "💡 **Q1.** Given an array of integers nums and an integer target, return indices of the two numbers such that they add up to target.\n",
    "\n",
    "You may assume that each input would have exactly one solution, and you may not use the same element twice.\n",
    "\n",
    "You can return the answer in any order.\n",
    "\n",
    "**Example:**\n",
    "Input: nums = [2,7,11,15], target = 9\n",
    "Output0 [0,1]\n",
    "\n",
    "**Explanation:** Because nums[0] + nums[1] == 9, we return [0, 1]\n",
    "\n"
   ]
  },
  {
   "cell_type": "code",
   "execution_count": 10,
   "id": "5bc8f343-1239-4dbe-859d-6d437db6c9f7",
   "metadata": {},
   "outputs": [
    {
     "name": "stdout",
     "output_type": "stream",
     "text": [
      "[0, 1]\n"
     ]
    }
   ],
   "source": [
    "def GetIndex(nums,target):\n",
    "    for i in range(0,len(nums)-1):\n",
    "        for j in range(1,len(nums)):\n",
    "            if (nums[i] + nums[j])==target:\n",
    "                return i,j\n",
    "            \n",
    "nums = [2,7,11,15]\n",
    "target = 9\n",
    "print(list(GetIndex(nums,target)))"
   ]
  },
  {
   "cell_type": "markdown",
   "id": "b810a44a-939c-4913-af33-a315f5901a8d",
   "metadata": {},
   "source": [
    "\n",
    "**Q2.** Given an integer array nums and an integer val, remove all occurrences of val in nums in-place. The order of the elements may be changed. Then return the number of elements in nums which are not equal to val.\n",
    "\n",
    "Consider the number of elements in nums which are not equal to val be k, to get accepted, you need to do the following things:\n",
    "\n",
    "- Change the array nums such that the first k elements of nums contain the elements which are not equal to val. The remaining elements of nums are not important as well as the size of nums.\n",
    "- Return k.\n",
    "\n",
    "**Example :**\n",
    "Input: nums = [3,2,2,3], val = 3\n",
    "Output: 2, nums = [2,2,_*,_*]\n",
    "\n",
    "**Explanation:** Your function should return k = 2, with the first two elements of nums being 2. It does not matter what you leave beyond the returned k (hence they are underscores)\n"
   ]
  },
  {
   "cell_type": "code",
   "execution_count": 21,
   "id": "f4c3d9d8-78cc-4ce6-8a9c-a269e411a6d3",
   "metadata": {},
   "outputs": [
    {
     "name": "stdout",
     "output_type": "stream",
     "text": [
      "Output: 2, nums = [2, 2, '_', '_']\n"
     ]
    }
   ],
   "source": [
    "def removeElements(nums,val):\n",
    "    i = 0\n",
    "    for j in range(len(nums)):\n",
    "        if nums[j]!=val:\n",
    "            nums[i] = nums[j]\n",
    "            i+= 1\n",
    "    return i\n",
    "\n",
    "nums = [3, 2, 2, 3]\n",
    "val = 3\n",
    "result = removeElements(nums, val)\n",
    "print(f\"Output: {result}, nums = {nums[:result] + ['_'] * (len(nums) - result)}\")\n",
    "            \n"
   ]
  },
  {
   "cell_type": "markdown",
   "id": "df1e84b1-a37f-4eff-88ce-266ade7a3bcb",
   "metadata": {},
   "source": [
    "**Q3.** Given a sorted array of distinct integers and a target value, return the index if the target is found. If not, return the index where it would be if it were inserted in order.\n",
    "\n",
    "You must write an algorithm with O(log n) runtime complexity.\n",
    "\n",
    "**Example 1:**\n",
    "Input: nums = [1,3,5,6], target = 5\n",
    "\n",
    "Output: 2\n"
   ]
  },
  {
   "cell_type": "code",
   "execution_count": 18,
   "id": "09787da3-5920-429e-ae0a-c399a3312ade",
   "metadata": {},
   "outputs": [
    {
     "name": "stdout",
     "output_type": "stream",
     "text": [
      "2\n"
     ]
    }
   ],
   "source": [
    "\n",
    "def FindIndex(nums,target):\n",
    "    left = 0\n",
    "    right = len(nums)-1\n",
    "    while right >= left:\n",
    "        mid = (left+right)//2\n",
    "        if nums[mid]==target:\n",
    "            return mid\n",
    "        elif nums[mid] > target:\n",
    "            right-= 1\n",
    "        else:\n",
    "            left+= 1\n",
    "    return right+1\n",
    "\n",
    "nums = [1,3,5,6]\n",
    "target = 5\n",
    "print(FindIndex(nums,target))"
   ]
  },
  {
   "cell_type": "markdown",
   "id": "4a858eae-9781-44bb-869d-d3c903d977aa",
   "metadata": {},
   "source": [
    "**Q4.** You are given a large integer represented as an integer array digits, where each digits[i] is the ith digit of the integer. The digits are ordered from most significant to least significant in left-to-right order. The large integer does not contain any leading 0's.\n",
    "\n",
    "Increment the large integer by one and return the resulting array of digits.\n",
    "\n",
    "**Example 1:**\n",
    "Input: digits = [1,2,3]\n",
    "Output: [1,2,4]\n",
    "\n",
    "**Explanation:** The array represents the integer 123.\n",
    "\n",
    "Incrementing by one gives 123 + 1 = 124.\n",
    "Thus, the result should be [1,2,4].\n"
   ]
  },
  {
   "cell_type": "code",
   "execution_count": 12,
   "id": "7d85b6c5-20f8-423e-af4a-39794de88d1a",
   "metadata": {},
   "outputs": [
    {
     "name": "stdout",
     "output_type": "stream",
     "text": [
      "Output: [1, 2, 4]\n"
     ]
    }
   ],
   "source": [
    "def plusOne(digits):\n",
    "    carry = 1\n",
    "    for i in range(len(digits) - 1, -1, -1):\n",
    "        digits[i] += carry\n",
    "        carry = digits[i] // 10\n",
    "        digits[i] %= 10\n",
    "\n",
    "    if carry:\n",
    "        digits.insert(0, carry)\n",
    "\n",
    "    return digits\n",
    "\n",
    "digits = [1, 2, 3]\n",
    "result = plusOne(digits)\n",
    "print(f\"Output: {result}\")"
   ]
  },
  {
   "cell_type": "markdown",
   "id": "21ffea22-e05e-47cb-bd32-fad48aba9f5a",
   "metadata": {},
   "source": [
    "**Q5.** You are given two integer arrays nums1 and nums2, sorted in non-decreasing order, and two integers m and n, representing the number of elements in nums1 and nums2 respectively.\n",
    "\n",
    "Merge nums1 and nums2 into a single array sorted in non-decreasing order.\n",
    "\n",
    "The final sorted array should not be returned by the function, but instead be stored inside the array nums1. To accommodate this, nums1 has a length of m + n, where the first m elements denote the elements that should be merged, and the last n elements are set to 0 and should be ignored. nums2 has a length of n.\n",
    "\n",
    "**Example 1:**\n",
    "Input: nums1 = [1,2,3,0,0,0], m = 3, nums2 = [2,5,6], n = 3\n",
    "Output: [1,2,2,3,5,6]\n",
    "\n",
    "**Explanation:** The arrays we are merging are [1,2,3] and [2,5,6].\n",
    "The result of the merge is [1,2,2,3,5,6] with the underlined elements coming from nums1.\n"
   ]
  },
  {
   "cell_type": "code",
   "execution_count": 2,
   "id": "9e88cc13-45e5-4f4a-8839-f8c63be1af6c",
   "metadata": {},
   "outputs": [
    {
     "name": "stdout",
     "output_type": "stream",
     "text": [
      "[1, 2, 2, 3, 5, 6]\n"
     ]
    }
   ],
   "source": [
    "def MergeArrays(nums1,nums2,m,n):\n",
    "    p1 = m-1\n",
    "    p2 = n-1\n",
    "    p = m+n-1\n",
    "    while p1>=0 and p2>=0:\n",
    "        if nums1[p1]>=nums2[p2]:\n",
    "            nums1[p] = nums1[p1]\n",
    "            p1-= 1\n",
    "            \n",
    "        else:\n",
    "            nums1[p] = nums2[p2]\n",
    "            p2-= 1\n",
    "        p-= 1\n",
    "    if p2 >= 0:\n",
    "        nums1[:p2 + 1] = nums2[:p2 + 1]\n",
    "    return nums1\n",
    "\n",
    "nums1 = [1,2,3,0,0,0]\n",
    "m = 3\n",
    "nums2 = [2,5,6]\n",
    "n = 3 \n",
    "print(MergeArrays(nums1,nums2,m,n))"
   ]
  },
  {
   "cell_type": "markdown",
   "id": "b94df4c0-0ac9-435f-8b1e-b0bf53598ff3",
   "metadata": {},
   "source": [
    "**Q6.** Given an integer array nums, return true if any value appears at least twice in the array, and return false if every element is distinct.\n",
    "\n",
    "**Example 1:**\n",
    "Input: nums = [1,2,3,1]\n",
    "\n",
    "Output: true\n"
   ]
  },
  {
   "cell_type": "code",
   "execution_count": 11,
   "id": "6e026abd-13a2-421d-9dfe-30cf6da0c519",
   "metadata": {},
   "outputs": [
    {
     "name": "stdout",
     "output_type": "stream",
     "text": [
      "True\n"
     ]
    }
   ],
   "source": [
    "def Duplicate(nums):\n",
    "    for i in range(1,len(nums)+1):\n",
    "        if nums.count(i)>1:\n",
    "            return True\n",
    "            break\n",
    "        else:\n",
    "            return False\n",
    "\n",
    "nums = [1,2,3,1]\n",
    "print(Duplicate(nums))"
   ]
  },
  {
   "cell_type": "markdown",
   "id": "66e3ff5b-8c73-4f8c-b67f-57149067f548",
   "metadata": {},
   "source": [
    "**Q7.** Given an integer array nums, move all 0's to the end of it while maintaining the relative order of the nonzero elements.\n",
    "\n",
    "Note that you must do this in-place without making a copy of the array.\n",
    "\n",
    "**Example 1:**\n",
    "Input: nums = [0,1,0,3,12]\n",
    "Output: [1,3,12,0,0]\n"
   ]
  },
  {
   "cell_type": "code",
   "execution_count": 14,
   "id": "17449f5d-7478-4382-b9e9-4b979702816a",
   "metadata": {},
   "outputs": [
    {
     "name": "stdout",
     "output_type": "stream",
     "text": [
      "[1, 3, 12, 0, 0]\n"
     ]
    }
   ],
   "source": [
    "def ZeroatEnd(nums):\n",
    "    count = 0\n",
    "    for i in range(len(nums)):\n",
    "        if nums[i] != 0:\n",
    "            nums[count] = nums[i]\n",
    "            count+= 1\n",
    "    while count < len(nums):\n",
    "        nums[count] = 0\n",
    "        count += 1\n",
    "    return nums\n",
    "        \n",
    "nums = [0,1,0,3,12]\n",
    "print(ZeroatEnd(nums))"
   ]
  },
  {
   "cell_type": "markdown",
   "id": "f3a7fc87-8990-4558-adab-5f80d7671cb1",
   "metadata": {},
   "source": [
    "**Q8.** You have a set of integers s, which originally contains all the numbers from 1 to n. Unfortunately, due to some error, one of the numbers in s got duplicated to another number in the set, which results in repetition of one number and loss of another number.\n",
    "\n",
    "You are given an integer array nums representing the data status of this set after the error.\n",
    "\n",
    "Find the number that occurs twice and the number that is missing and return them in the form of an array.\n",
    "\n",
    "**Example 1:**\n",
    "Input: nums = [1,2,2,4]\n",
    "Output: [2,3]"
   ]
  },
  {
   "cell_type": "code",
   "execution_count": 22,
   "id": "00b9fe45-1152-413f-819d-45727489aadd",
   "metadata": {},
   "outputs": [
    {
     "name": "stdout",
     "output_type": "stream",
     "text": [
      "(2, 3)\n"
     ]
    }
   ],
   "source": [
    "def MissingandReapting(nums):\n",
    "    nums.sort()\n",
    "    for i in range(0,len(nums)-1):\n",
    "        if nums[i]==nums[i+1]:\n",
    "            repeat = nums[i]\n",
    "    for i in range(1,len(nums)+1):\n",
    "        if(i != nums[i - 1]):\n",
    "            missing = i\n",
    "    return repeat,missing\n",
    "\n",
    "nums = [1,2,2,4]\n",
    "print(MissingandReapting(nums))"
   ]
  },
  {
   "cell_type": "code",
   "execution_count": null,
   "id": "4b50f118-a820-490b-b72d-585c44a82066",
   "metadata": {},
   "outputs": [],
   "source": []
  }
 ],
 "metadata": {
  "kernelspec": {
   "display_name": "Python 3 (ipykernel)",
   "language": "python",
   "name": "python3"
  },
  "language_info": {
   "codemirror_mode": {
    "name": "ipython",
    "version": 3
   },
   "file_extension": ".py",
   "mimetype": "text/x-python",
   "name": "python",
   "nbconvert_exporter": "python",
   "pygments_lexer": "ipython3",
   "version": "3.10.6"
  }
 },
 "nbformat": 4,
 "nbformat_minor": 5
}
