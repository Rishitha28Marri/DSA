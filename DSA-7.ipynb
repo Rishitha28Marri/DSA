{
 "cells": [
  {
   "cell_type": "markdown",
   "id": "679aec7a-5eb1-4f8f-bef7-32e984928bd4",
   "metadata": {},
   "source": [
    "Given two strings s and t, *determine if they are isomorphic*.\n",
    "\n",
    "Two strings s and t are isomorphic if the characters in s can be replaced to get t.\n",
    "\n",
    "All occurrences of a character must be replaced with another character while preserving the order of characters. No two characters may map to the same character, but a character may map to itself.\n",
    "\n",
    "**Example 1:**\n",
    "\n",
    "**Input:** s = \"egg\", t = \"add\"\n",
    "\n",
    "**Output:** true"
   ]
  },
  {
   "cell_type": "code",
   "execution_count": 1,
   "id": "937a3a5f-3ce0-4bba-8dbd-f7f043f7ce68",
   "metadata": {},
   "outputs": [
    {
     "name": "stdout",
     "output_type": "stream",
     "text": [
      "True\n"
     ]
    }
   ],
   "source": [
    "def isIsomorphic(s, t):\n",
    "    if len(s) != len(t):  # If the lengths are different, they can't be isomorphic\n",
    "        return False\n",
    "\n",
    "    char_map = {}  # Map to store the character mappings\n",
    "    used_chars = set()  # Set to store the characters already used in the mapping\n",
    "\n",
    "    for i in range(len(s)):\n",
    "        char_s = s[i]\n",
    "        char_t = t[i]\n",
    "\n",
    "        if char_s in char_map:\n",
    "            if char_map[char_s] != char_t:  # If the mapping is inconsistent, return False\n",
    "                return False\n",
    "        else:\n",
    "            if char_t in used_chars:  # If the character is already mapped, return False\n",
    "                return False\n",
    "            char_map[char_s] = char_t\n",
    "            used_chars.add(char_t)\n",
    "\n",
    "    return True\n",
    "\n",
    "s = \"egg\"\n",
    "t = \"add\"\n",
    "isomorphic = isIsomorphic(s, t)\n",
    "print(isomorphic)  \n"
   ]
  },
  {
   "cell_type": "markdown",
   "id": "4dd496f8-1c31-48e7-8eed-ad79b004cc8d",
   "metadata": {},
   "source": [
    "Given a string num which represents an integer, return true *if* num *is a **strobogrammatic number***.\n",
    "\n",
    "A **strobogrammatic number** is a number that looks the same when rotated 180 degrees (looked at upside down).\n",
    "\n",
    "**Example 1:**\n",
    "\n",
    "**Input:** num = \"69\"\n",
    "\n",
    "**Output:**\n",
    "\n",
    "true"
   ]
  },
  {
   "cell_type": "code",
   "execution_count": 2,
   "id": "e50193d9-4d39-4406-b260-15798e636ec0",
   "metadata": {},
   "outputs": [
    {
     "name": "stdout",
     "output_type": "stream",
     "text": [
      "True\n"
     ]
    }
   ],
   "source": [
    "def isStrobogrammatic(num):\n",
    "    strobogrammatic_map = {\n",
    "        '0': '0',\n",
    "        '1': '1',\n",
    "        '6': '9',\n",
    "        '8': '8',\n",
    "        '9': '6'\n",
    "    }\n",
    "\n",
    "    left = 0\n",
    "    right = len(num) - 1\n",
    "\n",
    "    while left <= right:\n",
    "        if num[left] not in strobogrammatic_map or num[right] not in strobogrammatic_map:\n",
    "            return False\n",
    "\n",
    "        if num[left] != strobogrammatic_map[num[right]]:\n",
    "            return False\n",
    "\n",
    "        left += 1\n",
    "        right -= 1\n",
    "\n",
    "    return True\n",
    "\n",
    "num = \"69\"\n",
    "is_strobogrammatic = isStrobogrammatic(num)\n",
    "print(is_strobogrammatic)  \n"
   ]
  },
  {
   "cell_type": "markdown",
   "id": "1704be11-1c1b-4d3a-9925-bbd2a51cf17e",
   "metadata": {},
   "source": [
    "Given two non-negative integers, num1 and num2 represented as string, return *the sum of* num1 *and* num2 *as a string*.\n",
    "\n",
    "You must solve the problem without using any built-in library for handling large integers (such as BigInteger). You must also not convert the inputs to integers directly.\n",
    "\n",
    "**Example 1:**\n",
    "\n",
    "**Input:** num1 = \"11\", num2 = \"123\"\n",
    "\n",
    "**Output:**\n",
    "\n",
    "\"134\""
   ]
  },
  {
   "cell_type": "code",
   "execution_count": 3,
   "id": "3faab933-386e-42eb-9b4e-1ef0fb056dc1",
   "metadata": {},
   "outputs": [
    {
     "name": "stdout",
     "output_type": "stream",
     "text": [
      "134\n"
     ]
    }
   ],
   "source": [
    "def addStrings(num1, num2):\n",
    "    result = []\n",
    "    carry = 0\n",
    "    i = len(num1) - 1\n",
    "    j = len(num2) - 1\n",
    "\n",
    "    while i >= 0 or j >= 0 or carry > 0:\n",
    "        digit1 = int(num1[i]) if i >= 0 else 0\n",
    "        digit2 = int(num2[j]) if j >= 0 else 0\n",
    "\n",
    "        current_sum = digit1 + digit2 + carry\n",
    "        carry = current_sum // 10\n",
    "        digit = current_sum % 10\n",
    "\n",
    "        result.append(str(digit))\n",
    "\n",
    "        i -= 1\n",
    "        j -= 1\n",
    "\n",
    "    result.reverse()\n",
    "    return ''.join(result)\n",
    "\n",
    "num1 = \"11\"\n",
    "num2 = \"123\"\n",
    "sum_of_strings = addStrings(num1, num2)\n",
    "print(sum_of_strings) "
   ]
  },
  {
   "cell_type": "markdown",
   "id": "24c5b67b-1246-4431-91bb-34968bd10372",
   "metadata": {},
   "source": [
    "Given a string s, reverse the order of characters in each word within a sentence while still preserving whitespace and initial word order.\n",
    "\n",
    "**Example 1:**\n",
    "\n",
    "**Input:** s = \"Let's take LeetCode contest\"\n",
    "\n",
    "**Output:** \"s'teL ekat edoCteeL tsetnoc\""
   ]
  },
  {
   "cell_type": "code",
   "execution_count": 4,
   "id": "a25df224-7e89-4e79-976e-f30108e9ec44",
   "metadata": {},
   "outputs": [
    {
     "name": "stdout",
     "output_type": "stream",
     "text": [
      "s'teL ekat edoCteeL tsetnoc\n"
     ]
    }
   ],
   "source": [
    "def reverseWords(s):\n",
    "    words = s.split()  # Split the sentence into words\n",
    "    reversed_words = [word[::-1] for word in words]  # Reverse each word\n",
    "    return ' '.join(reversed_words)  # Join the reversed words with whitespace\n",
    "\n",
    "s = \"Let's take LeetCode contest\"\n",
    "reversed_sentence = reverseWords(s)\n",
    "print(reversed_sentence)  \n"
   ]
  },
  {
   "cell_type": "markdown",
   "id": "3130c50f-0869-488b-b26b-cc9193c18fcf",
   "metadata": {},
   "source": [
    "Given a string s and an integer k, reverse the first k characters for every 2k characters counting from the start of the string.\n",
    "\n",
    "If there are fewer than k characters left, reverse all of them. If there are less than 2k but greater than or equal to k characters, then reverse the first k characters and leave the other as original.\n",
    "\n",
    "**Example 1:**\n",
    "\n",
    "**Input:** s = \"abcdefg\", k = 2\n",
    "\n",
    "**Output:**\n",
    "\n",
    "\"bacdfeg\""
   ]
  },
  {
   "cell_type": "code",
   "execution_count": 5,
   "id": "7a85c487-76d1-4c7c-817a-d4cf2551a3f5",
   "metadata": {},
   "outputs": [
    {
     "name": "stdout",
     "output_type": "stream",
     "text": [
      "bacdfeg\n"
     ]
    }
   ],
   "source": [
    "def reverseStr(s, k):\n",
    "    result = \"\"\n",
    "    n = len(s)\n",
    "    i = 0\n",
    "\n",
    "    while i < n:\n",
    "        # Reverse the first k characters\n",
    "        reverse = s[i:i+k][::-1]\n",
    "        result += reverse\n",
    "\n",
    "        # Add the remaining characters as they are\n",
    "        result += s[i+k:i+2*k]\n",
    "\n",
    "        # Move the index to the next 2k chunk\n",
    "        i += 2*k\n",
    "\n",
    "    return result\n",
    "\n",
    "s = \"abcdefg\"\n",
    "k = 2\n",
    "reversed_string = reverseStr(s, k)\n",
    "print(reversed_string) \n"
   ]
  },
  {
   "cell_type": "markdown",
   "id": "c6de500a-0373-42d0-abfd-92d0f84d1066",
   "metadata": {},
   "source": [
    "Given two strings s and goal, return true *if and only if* s *can become* goal *after some number of **shifts** on* s.\n",
    "\n",
    "A **shift** on s consists of moving the leftmost character of s to the rightmost position.\n",
    "\n",
    "- For example, if s = \"abcde\", then it will be \"bcdea\" after one shift.\n",
    "\n",
    "**Example 1:**\n",
    "\n",
    "**Input:** s = \"abcde\", goal = \"cdeab\"\n",
    "\n",
    "**Output:**\n",
    "\n",
    "true"
   ]
  },
  {
   "cell_type": "code",
   "execution_count": 6,
   "id": "6a84fe9c-ccb5-4a31-8d72-b8fc6320205e",
   "metadata": {},
   "outputs": [
    {
     "name": "stdout",
     "output_type": "stream",
     "text": [
      "True\n"
     ]
    }
   ],
   "source": [
    "def rotateString(s, goal):\n",
    "    # Check if s and goal have the same length\n",
    "    if len(s) != len(goal):\n",
    "        return False\n",
    "\n",
    "    # Concatenate s with itself\n",
    "    concatenated = s + s\n",
    "\n",
    "    # Check if goal is a substring of the concatenated string\n",
    "    if goal in concatenated:\n",
    "        return True\n",
    "\n",
    "    return False\n",
    "\n",
    "s = \"abcde\"\n",
    "goal = \"cdeab\"\n",
    "is_rotated = rotateString(s, goal)\n",
    "print(is_rotated)\n"
   ]
  },
  {
   "cell_type": "markdown",
   "id": "896c3029-763c-42ff-9a03-a0bb5808aa8c",
   "metadata": {},
   "source": [
    "Given two strings s and t, return true *if they are equal when both are typed into empty text editors*. '#' means a backspace character.\n",
    "\n",
    "Note that after backspacing an empty text, the text will continue empty.\n",
    "\n",
    "**Example 1:**\n",
    "\n",
    "**Input:** s = \"ab#c\", t = \"ad#c\"\n",
    "\n",
    "**Output:** true\n",
    "\n",
    "**Explanation:**\n",
    "\n",
    "Both s and t become \"ac\"."
   ]
  },
  {
   "cell_type": "code",
   "execution_count": 7,
   "id": "4e059305-3012-4c8f-9cf4-ba35ab155dd3",
   "metadata": {},
   "outputs": [
    {
     "name": "stdout",
     "output_type": "stream",
     "text": [
      "True\n"
     ]
    }
   ],
   "source": [
    "def backspaceCompare(s, t):\n",
    "    def processString(string):\n",
    "        result = []\n",
    "        for char in string:\n",
    "            if char != '#':\n",
    "                result.append(char)\n",
    "            elif result:\n",
    "                result.pop()\n",
    "        return ''.join(result)\n",
    "\n",
    "    processed_s = processString(s)\n",
    "    processed_t = processString(t)\n",
    "\n",
    "    return processed_s == processed_t\n",
    "\n",
    "s = \"ab#c\"\n",
    "t = \"ad#c\"\n",
    "are_equal = backspaceCompare(s, t)\n",
    "print(are_equal) \n"
   ]
  },
  {
   "cell_type": "markdown",
   "id": "23e5f032-5b78-465b-9969-7f63f105e8d2",
   "metadata": {},
   "source": [
    "You are given an array coordinates, coordinates[i] = [x, y], where [x, y] represents the coordinate of a point. Check if these points make a straight line in the XY plane.\n",
    "\n",
    "**Example 1:**\n",
    "**Input:** coordinates = [[1,2],[2,3],[3,4],[4,5],[5,6],[6,7]]\n",
    "\n",
    "**Output:** true"
   ]
  },
  {
   "cell_type": "code",
   "execution_count": 8,
   "id": "aa1788d5-5dd9-4946-86d2-84d2cbb9c471",
   "metadata": {},
   "outputs": [
    {
     "name": "stdout",
     "output_type": "stream",
     "text": [
      "True\n"
     ]
    }
   ],
   "source": [
    "def checkStraightLine(coordinates):\n",
    "    if len(coordinates) <= 2:\n",
    "        return True\n",
    "\n",
    "    x0, y0 = coordinates[0]\n",
    "    x1, y1 = coordinates[1]\n",
    "    for i in range(2, len(coordinates)):\n",
    "        xi, yi = coordinates[i]\n",
    "        if (y1 - y0) * (xi - x0) != (yi - y0) * (x1 - x0):\n",
    "            return False\n",
    "\n",
    "    return True\n",
    "\n",
    "coordinates = [[1,2],[2,3],[3,4],[4,5],[5,6],[6,7]]\n",
    "is_straight_line = checkStraightLine(coordinates)\n",
    "print(is_straight_line) \n"
   ]
  }
 ],
 "metadata": {
  "kernelspec": {
   "display_name": "Python 3 (ipykernel)",
   "language": "python",
   "name": "python3"
  },
  "language_info": {
   "codemirror_mode": {
    "name": "ipython",
    "version": 3
   },
   "file_extension": ".py",
   "mimetype": "text/x-python",
   "name": "python",
   "nbconvert_exporter": "python",
   "pygments_lexer": "ipython3",
   "version": "3.10.6"
  }
 },
 "nbformat": 4,
 "nbformat_minor": 5
}
