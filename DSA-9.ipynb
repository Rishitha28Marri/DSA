{
 "cells": [
  {
   "cell_type": "markdown",
   "id": "6dd3c299-190c-45cc-bfef-00aca68c4a03",
   "metadata": {},
   "source": [
    "Given an integer `n`, return *`true` if it is a power of two. Otherwise, return `false`*.\n",
    "\n",
    "An integer `n` is a power of two, if there exists an integer `x` such that `n == 2x`.\n",
    "\n",
    "**Example 1:**\n",
    "Input: n = 1 \n",
    "\n",
    "Output: true\n",
    "\n",
    "**Example 2:**\n",
    "Input: n = 16 \n",
    "\n",
    "Output: true\n",
    "\n",
    "**Example 3:**\n",
    "Input: n = 3 \n",
    "\n",
    "Output: false"
   ]
  },
  {
   "cell_type": "code",
   "execution_count": 1,
   "id": "4d8ed541-a502-4cad-8c2d-74028933be02",
   "metadata": {},
   "outputs": [
    {
     "name": "stdout",
     "output_type": "stream",
     "text": [
      "True\n",
      "True\n",
      "False\n"
     ]
    }
   ],
   "source": [
    "def power_of_two(n):\n",
    "    if (n%2 == 0) or (n==1):\n",
    "        return True\n",
    "    else:\n",
    "        return False\n",
    "print(power_of_two(1))\n",
    "print(power_of_two(16))\n",
    "print(power_of_two(3))"
   ]
  },
  {
   "cell_type": "markdown",
   "id": "a7b68d6f-d96c-4be8-9ee7-26516563f0c3",
   "metadata": {},
   "source": [
    "Given a number n, find the sum of the first natural numbers.\n",
    "\n",
    "**Example 1:**\n",
    "\n",
    "Input: n = 3 \n",
    "\n",
    "Output: 6\n",
    "\n",
    "**Example 2:**\n",
    "\n",
    "Input  : 5 \n",
    "\n",
    "Output : 15"
   ]
  },
  {
   "cell_type": "code",
   "execution_count": 2,
   "id": "87d44e16-0d0f-43fb-a23d-3e8ee881652b",
   "metadata": {},
   "outputs": [
    {
     "name": "stdout",
     "output_type": "stream",
     "text": [
      "6\n",
      "15\n"
     ]
    }
   ],
   "source": [
    "def sum_of_naturalno(n):\n",
    "    sum = 0\n",
    "    for i in range(1,n+1):\n",
    "        sum+= i\n",
    "    return sum\n",
    "print(sum_of_naturalno(3))\n",
    "print(sum_of_naturalno(5))\n"
   ]
  },
  {
   "cell_type": "markdown",
   "id": "d636a875-63e8-43a5-99c0-d691ab063486",
   "metadata": {},
   "source": [
    "Given a positive integer, N. Find the factorial of N. \n",
    "\n",
    "**Example 1:**\n",
    "\n",
    "Input: N = 5 \n",
    "\n",
    "Output: 120\n",
    "\n",
    "**Example 2:**\n",
    "\n",
    "Input: N = 4\n",
    "\n",
    "Output: 24"
   ]
  },
  {
   "cell_type": "code",
   "execution_count": 3,
   "id": "8e52d5f5-97b2-4bae-8a78-72c3e830dc74",
   "metadata": {},
   "outputs": [
    {
     "name": "stdout",
     "output_type": "stream",
     "text": [
      "120\n",
      "24\n"
     ]
    }
   ],
   "source": [
    "def factorial(n):\n",
    "    if n == 0 or n == 1:\n",
    "        return 1\n",
    "    return n*factorial(n-1)\n",
    "print(factorial(5))\n",
    "print(factorial(4))"
   ]
  },
  {
   "cell_type": "markdown",
   "id": "24306b22-d43f-422c-b0e0-54f27e3a1388",
   "metadata": {},
   "source": [
    "Given a number N and a power P, the task is to find the exponent of this number raised to the given power, i.e. N^P.\n",
    "\n",
    "**Example 1 :** \n",
    "\n",
    "Input: N = 5, P = 2\n",
    "\n",
    "Output: 25\n",
    "\n",
    "**Example 2 :**\n",
    "Input: N = 2, P = 5\n",
    "\n",
    "Output: 32"
   ]
  },
  {
   "cell_type": "code",
   "execution_count": 2,
   "id": "db758ba7-e4b8-49c1-8777-bfe73bc7f28f",
   "metadata": {},
   "outputs": [
    {
     "name": "stdout",
     "output_type": "stream",
     "text": [
      "25\n",
      "32\n"
     ]
    }
   ],
   "source": [
    "def exponent(N,P):\n",
    "    if P == 0:\n",
    "        return 1\n",
    "    return N * exponent(N, P-1)\n",
    "\n",
    "print(exponent(5,2))\n",
    "print(exponent(2,5))"
   ]
  },
  {
   "cell_type": "markdown",
   "id": "cb20d471-84f3-4fa8-8020-78621a3c42b6",
   "metadata": {},
   "source": [
    "Given an array of integers **arr**, the task is to find maximum element of that array using recursion.\n",
    "\n",
    "**Example 1:**\n",
    "\n",
    "Input: arr = {1, 4, 3, -5, -4, 8, 6};\n",
    "Output: 8\n",
    "\n",
    "**Example 2:**\n",
    "\n",
    "Input: arr = {1, 4, 45, 6, 10, -8};\n",
    "Output: 45"
   ]
  },
  {
   "cell_type": "code",
   "execution_count": 9,
   "id": "ee9e577c-f4ad-4e63-baf7-727c0998340e",
   "metadata": {},
   "outputs": [
    {
     "name": "stdout",
     "output_type": "stream",
     "text": [
      "8\n",
      "45\n"
     ]
    }
   ],
   "source": [
    "def maximum(arr):\n",
    "    max = arr[0]\n",
    "    for i in range(0,len(arr)):\n",
    "        if arr[i]> max:\n",
    "            max = arr[i]\n",
    "    return max\n",
    "arr = [1, 4, 3, -5, -4, 8, 6]\n",
    "print(maximum(arr))\n",
    "arr = [1, 4, 45, 6, 10, -8]\n",
    "print(maximum(arr))"
   ]
  },
  {
   "cell_type": "markdown",
   "id": "14ad4c19-b374-4c94-a472-002e4663edd8",
   "metadata": {},
   "source": [
    "Given first term (a), common difference (d) and a integer N of the Arithmetic Progression series, the task is to find Nth term of the series.\n",
    "\n",
    "**Example 1:**\n",
    "\n",
    "Input : a = 2 d = 1 N = 5\n",
    "Output : 6\n",
    "The 5th term of the series is : 6\n",
    "\n",
    "**Example 2:**\n",
    "\n",
    "Input : a = 5 d = 2 N = 10\n",
    "Output : 23\n",
    "The 10th term of the series is : 23"
   ]
  },
  {
   "cell_type": "code",
   "execution_count": 4,
   "id": "0ff226e8-483c-40b6-8d56-103fa2108ce4",
   "metadata": {},
   "outputs": [
    {
     "name": "stdout",
     "output_type": "stream",
     "text": [
      "6\n",
      "23\n"
     ]
    }
   ],
   "source": [
    "def find_nth_term(a, d, N):\n",
    "    return a + (N - 1) * d\n",
    "\n",
    "a = 2\n",
    "d = 1\n",
    "N = 5\n",
    "result = find_nth_term(a, d, N)\n",
    "print(result) \n",
    "\n",
    "a = 5\n",
    "d = 2\n",
    "N = 10\n",
    "result = find_nth_term(a, d, N)\n",
    "print(result)  \n"
   ]
  },
  {
   "cell_type": "markdown",
   "id": "314e0fe0-f59e-4fee-b4cd-f0c6e407ca21",
   "metadata": {},
   "source": [
    "Given a string S, the task is to write a program to print all permutations of a given string.\n",
    "\n",
    "**Example 1:**\n",
    "\n",
    "***Input:***\n",
    "\n",
    "*S = “ABC”*\n",
    "\n",
    "***Output:***\n",
    "\n",
    "*“ABC”, “ACB”, “BAC”, “BCA”, “CBA”, “CAB”*\n",
    "\n",
    "**Example 2:**\n",
    "\n",
    "***Input:***\n",
    "\n",
    "*S = “XY”*\n",
    "\n",
    "***Output:***\n",
    "\n",
    "*“XY”, “YX”*"
   ]
  },
  {
   "cell_type": "code",
   "execution_count": 5,
   "id": "fa3c86d1-a34b-4569-9e81-6e4c37d2dfba",
   "metadata": {},
   "outputs": [
    {
     "name": "stdout",
     "output_type": "stream",
     "text": [
      "ABC\n",
      "ACB\n",
      "BAC\n",
      "BCA\n",
      "CBA\n",
      "CAB\n",
      "XY\n",
      "YX\n"
     ]
    }
   ],
   "source": [
    "def permute_string(s, l, r):\n",
    "    if l == r:\n",
    "        print(\"\".join(s))\n",
    "    else:\n",
    "        for i in range(l, r + 1):\n",
    "            s[l], s[i] = s[i], s[l]  \n",
    "            permute_string(s, l + 1, r)  \n",
    "            s[l], s[i] = s[i], s[l] \n",
    "def print_permutations(s):\n",
    "    n = len(s)\n",
    "    permute_string(list(s), 0, n - 1)\n",
    "\n",
    "\n",
    "S = \"ABC\"\n",
    "print_permutations(S)\n",
    "\n",
    "S = \"XY\"\n",
    "print_permutations(S)\n"
   ]
  },
  {
   "cell_type": "markdown",
   "id": "71c1aa11-5b47-49cb-8ce1-812f31347c84",
   "metadata": {},
   "source": [
    "Given an array, find a product of all array elements.\n",
    "\n",
    "**Example 1:**\n",
    "\n",
    "Input  : arr[] = {1, 2, 3, 4, 5}\n",
    "Output : 120\n",
    "**Example 2:**\n",
    "\n",
    "Input  : arr[] = {1, 6, 3}\n",
    "Output : 18"
   ]
  },
  {
   "cell_type": "code",
   "execution_count": 12,
   "id": "12ae9572-9bf2-4675-b1ae-bf5f83ba2ed7",
   "metadata": {},
   "outputs": [
    {
     "name": "stdout",
     "output_type": "stream",
     "text": [
      "120\n",
      "18\n"
     ]
    }
   ],
   "source": [
    "def product(arr):\n",
    "    prod = 1\n",
    "    for i in range(1,len(arr)):\n",
    "        prod = prod*arr[i]\n",
    "    return prod\n",
    "print(product([1, 2, 3, 4, 5]))\n",
    "print(product([1, 6, 3]))"
   ]
  },
  {
   "cell_type": "code",
   "execution_count": null,
   "id": "da5964db-ba64-4d65-8c57-64c04cbbbb6d",
   "metadata": {},
   "outputs": [],
   "source": []
  }
 ],
 "metadata": {
  "kernelspec": {
   "display_name": "Python 3 (ipykernel)",
   "language": "python",
   "name": "python3"
  },
  "language_info": {
   "codemirror_mode": {
    "name": "ipython",
    "version": 3
   },
   "file_extension": ".py",
   "mimetype": "text/x-python",
   "name": "python",
   "nbconvert_exporter": "python",
   "pygments_lexer": "ipython3",
   "version": "3.10.6"
  }
 },
 "nbformat": 4,
 "nbformat_minor": 5
}
